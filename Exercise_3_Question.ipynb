{
  "nbformat": 4,
  "nbformat_minor": 0,
  "metadata": {
    "colab": {
      "name": "Exercise 3 - Question.ipynb",
      "version": "0.3.2",
      "provenance": [],
      "collapsed_sections": []
    },
    "kernelspec": {
      "name": "python3",
      "display_name": "Python 3"
    }
  },
  "cells": [
    {
      "cell_type": "markdown",
      "metadata": {
        "id": "iQjHqsmTAVLU",
        "colab_type": "text"
      },
      "source": [
        "## Exercise 3\n",
        "In the videos you looked at how you would improve Fashion MNIST using Convolutions. For your exercise see if you can improve MNIST to 99.8% accuracy or more using only a single convolutional layer and a single MaxPooling 2D. You should stop training once the accuracy goes above this amount. It should happen in less than 20 epochs, so it's ok to hard code the number of epochs for training, but your training must end once it hits the above metric. If it doesn't, then you'll need to redesign your layers.\n",
        "\n",
        "I've started the code for you -- you need to finish it!\n",
        "\n",
        "When 99.8% accuracy has been hit, you should print out the string \"Reached 99.8% accuracy so cancelling training!\"\n"
      ]
    },
    {
      "cell_type": "code",
      "metadata": {
        "id": "sfQRyaJWAIdg",
        "colab_type": "code",
        "colab": {
          "base_uri": "https://localhost:8080/",
          "height": 677
        },
        "outputId": "d297c728-6845-4a5e-844e-1ce95559a803"
      },
      "source": [
        "import tensorflow as tf\n",
        "\n",
        "class Mycallback(tf.keras.callbacks.Callback):\n",
        "  def on_epoch_end(self, epoch, logs={}):\n",
        "    if(logs.get('acc')>0.998):\n",
        "      print(\"\\nReached 99.8% accuracy so cancelling training!\")\n",
        "      self.model.stop_training = True\n",
        "      \n",
        "      \n",
        "mnist = tf.keras.datasets.mnist\n",
        "(training_images, training_labels), (test_images, test_labels) = mnist.load_data()\n",
        "#training_images=training_images.reshape(60000, 28, 28, 1)\n",
        "#test_images = test_images.reshape(10000, 28, 28, 1)\n",
        "training_images=training_images.reshape(training_images.shape[0], training_images.shape[1], training_images.shape[2], 1)\n",
        "test_images = test_images.reshape(test_images.shape[0], test_images.shape[1], test_images.shape[2], 1)\n",
        "training_images, test_images = training_images/255.0, test_images/255.0\n",
        "\n",
        "callbacks = Mycallback()\n",
        "\n",
        "\n",
        "model = tf.keras.models.Sequential([\n",
        "    tf.keras.layers.Conv2D(64, (3,3), activation='relu', input_shape=(28,28,1)),\n",
        "    tf.keras.layers.MaxPooling2D(2,2),\n",
        "    tf.keras.layers.Flatten(),\n",
        "    tf.keras.layers.Dense(128, activation='relu'),\n",
        "    tf.keras.layers.Dense(10, activation='softmax')\n",
        "])\n",
        "\n",
        "model.compile(optimizer='adam', loss='sparse_categorical_crossentropy', metrics=['accuracy'])\n",
        "model.summary()\n",
        "model.fit(training_images, training_labels, epochs=20, callbacks=[callbacks])\n",
        "test_loss = model.evaluate(test_images, test_labels)"
      ],
      "execution_count": 11,
      "outputs": [
        {
          "output_type": "stream",
          "text": [
            "_________________________________________________________________\n",
            "Layer (type)                 Output Shape              Param #   \n",
            "=================================================================\n",
            "conv2d_3 (Conv2D)            (None, 26, 26, 64)        640       \n",
            "_________________________________________________________________\n",
            "max_pooling2d_3 (MaxPooling2 (None, 13, 13, 64)        0         \n",
            "_________________________________________________________________\n",
            "flatten_2 (Flatten)          (None, 10816)             0         \n",
            "_________________________________________________________________\n",
            "dense_3 (Dense)              (None, 128)               1384576   \n",
            "_________________________________________________________________\n",
            "dense_4 (Dense)              (None, 10)                1290      \n",
            "=================================================================\n",
            "Total params: 1,386,506\n",
            "Trainable params: 1,386,506\n",
            "Non-trainable params: 0\n",
            "_________________________________________________________________\n",
            "Epoch 1/20\n",
            "60000/60000 [==============================] - 100s 2ms/sample - loss: 0.1323 - acc: 0.9608\n",
            "Epoch 2/20\n",
            "60000/60000 [==============================] - 99s 2ms/sample - loss: 0.0467 - acc: 0.9852\n",
            "Epoch 3/20\n",
            "60000/60000 [==============================] - 100s 2ms/sample - loss: 0.0273 - acc: 0.9913\n",
            "Epoch 4/20\n",
            "60000/60000 [==============================] - 99s 2ms/sample - loss: 0.0165 - acc: 0.9943\n",
            "Epoch 5/20\n",
            "60000/60000 [==============================] - 99s 2ms/sample - loss: 0.0117 - acc: 0.9962\n",
            "Epoch 6/20\n",
            "60000/60000 [==============================] - 99s 2ms/sample - loss: 0.0094 - acc: 0.9970\n",
            "Epoch 7/20\n",
            "60000/60000 [==============================] - 100s 2ms/sample - loss: 0.0079 - acc: 0.9977\n",
            "Epoch 8/20\n",
            "60000/60000 [==============================] - 100s 2ms/sample - loss: 0.0064 - acc: 0.9979\n",
            "Epoch 9/20\n",
            "59968/60000 [============================>.] - ETA: 0s - loss: 0.0050 - acc: 0.9984\n",
            "Reached 99.8% accuracy so cancelling training!\n",
            "60000/60000 [==============================] - 99s 2ms/sample - loss: 0.0050 - acc: 0.9984\n",
            "10000/10000 [==============================] - 4s 361us/sample - loss: 0.0610 - acc: 0.9855\n"
          ],
          "name": "stdout"
        }
      ]
    }
  ]
}